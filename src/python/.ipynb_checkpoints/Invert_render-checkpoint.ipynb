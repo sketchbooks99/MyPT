{
 "cells": [
  {
   "cell_type": "code",
   "execution_count": null,
   "metadata": {},
   "outputs": [],
   "source": [
    "import sys\n",
    "import numpy as np \n",
    "import matplotlib.pyplot as plt\n",
    "import os\n",
    "import subprocess\n",
    "import shutil # For copying scene configuration files\n",
    "\n",
    "def render(scene_name):\n",
    "    # Use `run()` for synchronized processing\n",
    "    'Started rendering scene of {}'.format(scene_name)\n",
    "    proc = subprocess.run('build/mypt {}'.format(scene_name), shell=True)\n",
    "    print(\"Done\")\n",
    "    \n",
    "def extract_param(filepath, prefix):\n",
    "    with open(filepath, mode=\"r\") as file:\n",
    "        lines = file.readlines()\n",
    "    for l in lines:\n",
    "        params = l.split(\" \")\n",
    "        if prefix == params[0]:\n",
    "            return params[1]\n",
    "    file.close()\n",
    "    \n",
    "def replace_param(filepath, prefix, value):\n",
    "    with open(filepath, mode=\"r\") as file:\n",
    "        lines = file.readlines()\n",
    "        \n",
    "    for i, l in enumerate(lines):\n",
    "        params = l.split(\" \")\n",
    "        if prefix == params[0]:\n",
    "            lines[i] = l.replace(l, \"{} {}\\n\".format(prefix, value))\n",
    "    \n",
    "    with open(filepath, mode=\"w\", encoding='utf-8') as f:\n",
    "        f.writelines(lines)\n",
    "        \n",
    "def replace_absorbed_resultpath(filepath, outpath):\n",
    "    with open(filepath, mode=\"r\") as file:\n",
    "        lines = file.readlines()\n",
    "        \n",
    "    for i, l in enumerate(lines):\n",
    "        params = l.split(' ')\n",
    "        if params[0] == 'material' and params[1] == 'absorber':\n",
    "            to_replace = ''\n",
    "            for j, p in enumerate(params):\n",
    "                if not p == 'filename':\n",
    "                    continue\n",
    "                to_replace = params[j+1]\n",
    "            if not to_replace == '':\n",
    "                lines[i] = l.replace(to_replace, '{}\\n'.format(outpath))\n",
    "    \n",
    "    with open(filepath, mode=\"w\") as f:\n",
    "        f.writelines(lines)\n",
    "    \n",
    "def main():\n",
    "#     parent_path = \"/mnt/c/Users/lunae/Desktop/MyPT/\"\n",
    "    parent_path = \"/home/koizumilab/Desktop/MyPT/\"\n",
    "    os.chdir(parent_path)\n",
    "    \n",
    "    ref_name = \"scene/ref.txt\"\n",
    "    inv_name = \"scene/invert.txt\"\n",
    "    ref_filename = ref_name.split(\"/\")[::-1][0]\n",
    "    inv_filename = inv_name.split(\"/\")[::-1][0]\n",
    "    \n",
    "    # Create directory to store the result and the scene configuration.\n",
    "    result_dirpath = os.path.join(\"result\", \"sphere04\")\n",
    "    os.makedirs(result_dirpath, exist_ok=True)\n",
    "    \n",
    "    # Update file path of rendered & absorbed image.\n",
    "    ref_result_path = os.path.join(result_dirpath, 'ref.png')\n",
    "    inv_result_path = os.path.join(result_dirpath, 'invert.png')\n",
    "    replace_param(ref_name, \"filename\", ref_result_path)\n",
    "    replace_absorbed_resultpath(inv_name, inv_result_path)\n",
    "    \n",
    "    # render the reference scene\n",
    "    if not os.path.exists(ref_result_path):\n",
    "        render(ref_name)\n",
    "    replace_param(inv_name, \"ref\", ref_result_path)\n",
    "    \n",
    "    # perform the invert rendering\n",
    "    render(inv_name)\n",
    "    \n",
    "    # Copy scene configuration file\n",
    "    shutil.copy(ref_name, os.path.join(result_dirpath, ref_filename))\n",
    "    shutil.copy(inv_name, os.path.join(result_dirpath, inv_filename))\n",
    "    \n",
    "if __name__ == \"__main__\":\n",
    "    main()"
   ]
  },
  {
   "cell_type": "code",
   "execution_count": 4,
   "metadata": {},
   "outputs": [
    {
     "data": {
      "text/plain": [
       "'/home/koizumilab/Desktop/MyPT/src/python'"
      ]
     },
     "execution_count": 4,
     "metadata": {},
     "output_type": "execute_result"
    }
   ],
   "source": [
    "pwd()"
   ]
  }
 ],
 "metadata": {
  "kernelspec": {
   "display_name": "Python 3",
   "language": "python",
   "name": "python3"
  },
  "language_info": {
   "codemirror_mode": {
    "name": "ipython",
    "version": 3
   },
   "file_extension": ".py",
   "mimetype": "text/x-python",
   "name": "python",
   "nbconvert_exporter": "python",
   "pygments_lexer": "ipython3",
   "version": "3.8.5"
  }
 },
 "nbformat": 4,
 "nbformat_minor": 4
}
