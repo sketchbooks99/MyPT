{
 "cells": [
  {
   "cell_type": "code",
   "execution_count": 1,
   "metadata": {},
   "outputs": [
    {
     "ename": "FileNotFoundError",
     "evalue": "[Errno 2] No such file or directory: '/home/koizumilab/Desktop/MyPT/'",
     "output_type": "error",
     "traceback": [
      "\u001b[0;31m---------------------------------------------------------------------------\u001b[0m",
      "\u001b[0;31mFileNotFoundError\u001b[0m                         Traceback (most recent call last)",
      "\u001b[0;32m<ipython-input-1-916342b4db05>\u001b[0m in \u001b[0;36m<module>\u001b[0;34m\u001b[0m\n\u001b[1;32m     64\u001b[0m \u001b[0;34m\u001b[0m\u001b[0m\n\u001b[1;32m     65\u001b[0m \u001b[0;32mif\u001b[0m \u001b[0m__name__\u001b[0m \u001b[0;34m==\u001b[0m \u001b[0;34m\"__main__\"\u001b[0m\u001b[0;34m:\u001b[0m\u001b[0;34m\u001b[0m\u001b[0;34m\u001b[0m\u001b[0m\n\u001b[0;32m---> 66\u001b[0;31m     \u001b[0mmain\u001b[0m\u001b[0;34m(\u001b[0m\u001b[0;34m)\u001b[0m\u001b[0;34m\u001b[0m\u001b[0;34m\u001b[0m\u001b[0m\n\u001b[0m",
      "\u001b[0;32m<ipython-input-1-916342b4db05>\u001b[0m in \u001b[0;36mmain\u001b[0;34m()\u001b[0m\n\u001b[1;32m     36\u001b[0m \u001b[0;31m#     parent_path = \"/mnt/c/Users/lunae/Desktop/MyPT/\"\u001b[0m\u001b[0;34m\u001b[0m\u001b[0;34m\u001b[0m\u001b[0;34m\u001b[0m\u001b[0m\n\u001b[1;32m     37\u001b[0m     \u001b[0mparent_path\u001b[0m \u001b[0;34m=\u001b[0m \u001b[0;34m\"/home/koizumilab/Desktop/MyPT/\"\u001b[0m\u001b[0;34m\u001b[0m\u001b[0;34m\u001b[0m\u001b[0m\n\u001b[0;32m---> 38\u001b[0;31m     \u001b[0mos\u001b[0m\u001b[0;34m.\u001b[0m\u001b[0mchdir\u001b[0m\u001b[0;34m(\u001b[0m\u001b[0mparent_path\u001b[0m\u001b[0;34m)\u001b[0m\u001b[0;34m\u001b[0m\u001b[0;34m\u001b[0m\u001b[0m\n\u001b[0m\u001b[1;32m     39\u001b[0m \u001b[0;34m\u001b[0m\u001b[0m\n\u001b[1;32m     40\u001b[0m     \u001b[0mref_name\u001b[0m \u001b[0;34m=\u001b[0m \u001b[0;34m\"scene/ref.txt\"\u001b[0m\u001b[0;34m\u001b[0m\u001b[0;34m\u001b[0m\u001b[0m\n",
      "\u001b[0;31mFileNotFoundError\u001b[0m: [Errno 2] No such file or directory: '/home/koizumilab/Desktop/MyPT/'"
     ]
    }
   ],
   "source": [
    "import sys\n",
    "import numpy as np \n",
    "import matplotlib.pyplot as plt\n",
    "import os\n",
    "import subprocess\n",
    "import shutil # For copying scene configuration files\n",
    "\n",
    "def render(scene_name):\n",
    "    # Use `run()` for synchronized processing\n",
    "    'Started rendering scene of {}'.format(scene_name)\n",
    "    proc = subprocess.run('build/mypt {}'.format(scene_name), shell=True)\n",
    "    print(\"Done\")\n",
    "    \n",
    "def extract_param(filepath, prefix):\n",
    "    with open(filepath, mode=\"r\") as file:\n",
    "        lines = file.readlines()\n",
    "    for l in lines:\n",
    "        params = l.split(\" \")\n",
    "        if prefix == params[0]:\n",
    "            return params[1]\n",
    "    file.close()\n",
    "    \n",
    "def replace_param(filepath, prefix, value):\n",
    "    with open(filepath, mode=\"r\") as file:\n",
    "        lines = file.readlines()\n",
    "        \n",
    "    for i, l in enumerate(lines):\n",
    "        params = l.split(\" \")\n",
    "        if prefix == params[0]:\n",
    "            lines[i] = l.replace(l, \"{} {}\\n\".format(prefix, value))\n",
    "    \n",
    "    with open(filepath, mode=\"w\", encoding='utf-8') as f:\n",
    "        f.writelines(lines)\n",
    "    \n",
    "def main():\n",
    "    parent_path = \"/mnt/c/Users/lunae/Desktop/MyPT/\"\n",
    "#     parent_path = \"/home/koizumilab/Desktop/MyPT/\"\n",
    "    os.chdir(parent_path)\n",
    "    \n",
    "    ref_name = \"scene/ref.txt\"\n",
    "    inv_name = \"scene/invert.txt\"\n",
    "    ref_filename = ref_name.split(\"/\")[::-1][0]\n",
    "    inv_filename = inv_name.split(\"/\")[::-1][0]\n",
    "    \n",
    "    # Create directory to store the result and the scene configuration.\n",
    "    result_path = os.path.join(\"result\", \"cube02\")\n",
    "    os.makedirs(result_path, exist_ok=True)\n",
    "    \n",
    "    # Update file path of rendered & absorbed image.\n",
    "    replace_param(ref_name, \"filename\", os.path.join(result_path, 'ref.png'))\n",
    "    replace_param(inv_name, \"inv\", os.path.join(result_path, 'invert.png'))\n",
    "    \n",
    "    # render the reference scene\n",
    "    render(ref_name)\n",
    "    ref_result_path = extract_param(ref_name, 'filename')\n",
    "    replace_param(inv_name, \"ref\", ref_result_path.rstrip('\\n'))\n",
    "    \n",
    "    # perform the invert rendering\n",
    "    render(inv_name)\n",
    "    \n",
    "    # Copy scene configuration file\n",
    "    shutil.copy(ref_name, os.path.join(result_path, ref_filename))\n",
    "    shutil.copy(inv_name, os.path.join(result_path, inv_filename))\n",
    "    \n",
    "if __name__ == \"__main__\":\n",
    "    main()"
   ]
  },
  {
   "cell_type": "code",
   "execution_count": 4,
   "metadata": {},
   "outputs": [
    {
     "data": {
      "text/plain": [
       "'/home/koizumilab/Desktop/MyPT/src/python'"
      ]
     },
     "execution_count": 4,
     "metadata": {},
     "output_type": "execute_result"
    }
   ],
   "source": [
    "pwd()"
   ]
  }
 ],
 "metadata": {
  "kernelspec": {
   "display_name": "Python 3",
   "language": "python",
   "name": "python3"
  },
  "language_info": {
   "codemirror_mode": {
    "name": "ipython",
    "version": 3
   },
   "file_extension": ".py",
   "mimetype": "text/x-python",
   "name": "python",
   "nbconvert_exporter": "python",
   "pygments_lexer": "ipython3",
   "version": "3.8.5"
  }
 },
 "nbformat": 4,
 "nbformat_minor": 4
}
