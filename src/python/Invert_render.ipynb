{
 "cells": [
  {
   "cell_type": "code",
   "execution_count": 1,
   "metadata": {},
   "outputs": [
    {
     "ename": "IndentationError",
     "evalue": "expected an indented block (<ipython-input-1-d4a61f93f4d4>, line 15)",
     "output_type": "error",
     "traceback": [
      "\u001b[0;36m  File \u001b[0;32m\"<ipython-input-1-d4a61f93f4d4>\"\u001b[0;36m, line \u001b[0;32m15\u001b[0m\n\u001b[0;31m    def main():\u001b[0m\n\u001b[0m    ^\u001b[0m\n\u001b[0;31mIndentationError\u001b[0m\u001b[0;31m:\u001b[0m expected an indented block\n"
     ]
    }
   ],
   "source": [
    "import sys\n",
    "import numpy as np \n",
    "import matplotlib.pyplot as plt\n",
    "import os\n",
    "import subprocess\n",
    "\n",
    "parent_path = \"../../\"\n",
    "\n",
    "def render(scene_name):\n",
    "    # Use `run()` for synchronized processing\n",
    "    subprocess.run(os.path.join(parent_path, 'build/mypt {}'.format(scene_path)), shell=True)\n",
    "    print(\"Done\")\n",
    "    \n",
    "def extract_param(filepath, prefix):\n",
    "    with open(filepath, mode=\"r\") as file:\n",
    "        lines = file.readlines()\n",
    "    for l in lines:\n",
    "        params = l.split(\" \")\n",
    "        if prefix == params[0]:\n",
    "            return params[1:len(params)]\n",
    "    file.close()\n",
    "    \n",
    "def replace_param(filepath, prefix, value):\n",
    "    with open(filepath, mode=\"w\") as file:\n",
    "        lines = file.readlines()\n",
    "        \n",
    "    for l in lines:\n",
    "        params = l.split(\" \")\n",
    "        if prefix == params[0]:\n",
    "            l = l.replace(l, \"{} {}\".format(prefix, value))\n",
    "    \n",
    "def main():\n",
    "    ref_name = \"scene/ref.txt\"\n",
    "    inv_name = \"scene/inv.txt\"\n",
    "    \n",
    "    dirname = os.path.join(\"result\", \"sphere01\")\n",
    "    result_path = os.path.join(parent_path, dirname)\n",
    "    os.mkdirs(result_path, exist_ok=True)\n",
    "    \n",
    "    render(scene_name)\n",
    "    ref_result_path = extract_param(ref_name, 'filename')\n",
    "    replace_param(inv_name, \"ref\", ref_result_path)\n",
    "    \n",
    "    render(inv_name)\n",
    "    \n",
    "if __name__ == \"__main__\":\n",
    "    main()"
   ]
  },
  {
   "cell_type": "code",
   "execution_count": 2,
   "metadata": {},
   "outputs": [
    {
     "data": {
      "text/plain": [
       "'/home/koizumilab/Desktop/MyPT/src/python'"
      ]
     },
     "execution_count": 2,
     "metadata": {},
     "output_type": "execute_result"
    }
   ],
   "source": [
    "pwd()"
   ]
  }
 ],
 "metadata": {
  "kernelspec": {
   "display_name": "Python 3",
   "language": "python",
   "name": "python3"
  },
  "language_info": {
   "codemirror_mode": {
    "name": "ipython",
    "version": 3
   },
   "file_extension": ".py",
   "mimetype": "text/x-python",
   "name": "python",
   "nbconvert_exporter": "python",
   "pygments_lexer": "ipython3",
   "version": "3.8.5"
  }
 },
 "nbformat": 4,
 "nbformat_minor": 4
}
