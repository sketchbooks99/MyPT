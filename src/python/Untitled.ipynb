{
 "cells": [
  {
   "cell_type": "code",
   "execution_count": 43,
   "metadata": {},
   "outputs": [
    {
     "name": "stdout",
     "output_type": "stream",
     "text": [
      "0.18597794875167137\n"
     ]
    }
   ],
   "source": [
    "import numpy as np\n",
    "import math\n",
    "import matplotlib.pyplot as plt\n",
    "from mpl_toolkits.mplot3d import Axes3D\n",
    "\n",
    "class float3:\n",
    "    def __init__(self, x, y, z):\n",
    "        self.x = x\n",
    "        self.y = y\n",
    "        self.z = z\n",
    "    \n",
    "    # += に相当\n",
    "    def __iadd__(self, other):\n",
    "        return float3(self.x + other.x, self.y + other.y, self.z + other.z)\n",
    "    \n",
    "    def __add__(self, other):\n",
    "        return float3(self.x + other.x, self.y + other.y, self.z + other.z)\n",
    "    \n",
    "    def __sub__(self, other):\n",
    "        return float3(self.x - other.x, self.y - other.y, self.z - other.z)\n",
    "\n",
    "    def __isub__(self, other):\n",
    "        return float3(self.x - other.x, self.y - other.y, self.z - other.z)\n",
    "    \n",
    "    def length_squared(self):\n",
    "        return self.x*self.x + self.y*self.y + self.z*self.z\n",
    "        \n",
    "    def length(self):\n",
    "        return math.sqrt(self.length_squared())\n",
    "    \n",
    "    def __str__(self):\n",
    "        return '{} {} {}'.format(self.x, self.y, self.z)\n",
    "\n",
    "def extract_config(line):\n",
    "    '''\n",
    "    config (string)\n",
    "    '''\n",
    "    elems = line.split(',')\n",
    "    config = dict()\n",
    "    for e in elems:\n",
    "        if \":\" in e:\n",
    "            name, data = e.split(':')\n",
    "            if 'into' == name or 'is_reflect' == name:\n",
    "                config[name] = int(data)\n",
    "            elif 'p' == name or 'in' == name or 'dir' == name:\n",
    "                x, y, z = data.split(' ')\n",
    "                x, y, z = float(x), float(y), float(z)\n",
    "                config[name] = float3(x, y, z)\n",
    "    return config\n",
    "            \n",
    "def is_into(p, indir, sphere):\n",
    "    oc = p - sphere['position']\n",
    "    if (oc + indir).length() < sphere['radius']:\n",
    "        return True\n",
    "    return False\n",
    "    \n",
    "def main():\n",
    "    sphere = {'radius':4, 'position':float3(5,-6,-3)}\n",
    "    \n",
    "    datapath = \"../../out.log\"\n",
    "    with open(datapath, 'r') as log:\n",
    "        lines = log.readlines()\n",
    "\n",
    "    in_cnt = 0\n",
    "    cnt = 0\n",
    "    for l in lines:\n",
    "        config = extract_config(l)\n",
    "        if not 'p' in config.keys() or not'in' in config.keys():\n",
    "            continue\n",
    "        if is_into(config['p'], config['in'], sphere):\n",
    "            in_cnt += 1\n",
    "        cnt += 1\n",
    "    print(in_cnt / len(lines))\n",
    "            \n",
    "if __name__ == \"__main__\":\n",
    "    main()"
   ]
  },
  {
   "cell_type": "code",
   "execution_count": null,
   "metadata": {},
   "outputs": [],
   "source": []
  }
 ],
 "metadata": {
  "kernelspec": {
   "display_name": "Python 3",
   "language": "python",
   "name": "python3"
  },
  "language_info": {
   "codemirror_mode": {
    "name": "ipython",
    "version": 3
   },
   "file_extension": ".py",
   "mimetype": "text/x-python",
   "name": "python",
   "nbconvert_exporter": "python",
   "pygments_lexer": "ipython3",
   "version": "3.8.5"
  }
 },
 "nbformat": 4,
 "nbformat_minor": 4
}
